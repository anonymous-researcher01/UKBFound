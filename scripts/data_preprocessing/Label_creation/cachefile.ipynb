{
 "cells": [
  {
   "cell_type": "code",
   "execution_count": null,
   "metadata": {},
   "outputs": [],
   "source": [
    "import pandas as pd\n",
    "import os\n",
    "file_path = 'path/to/ukb*****.csv'\n",
    "\n",
    "output_dir = '../../../results/cache/ukbcache'\n",
    "os.makedirs(output_dir, exist_ok=True)\n",
    "chunk_size = 10000 \n",
    "\n",
    "all_columns = pd.read_csv(file_path, nrows=0).columns.tolist()\n",
    "\n",
    "batch_size = 10\n",
    "for i in range(0, len(all_columns), batch_size):\n",
    "    current_columns = all_columns[i:i + batch_size]\n",
    "    column_data = {col: [] for col in current_columns}\n",
    "    chunks = pd.read_csv(file_path, chunksize=chunk_size,low_memory=False)\n",
    "    for chunk in chunks:\n",
    "        for column in current_columns:\n",
    "            if column in chunk.columns:\n",
    "                column_data[column].append(chunk[[column]])\n",
    "\n",
    "    for column, data_list in column_data.items():\n",
    "        column_df = pd.concat(data_list)\n",
    "        output_file = os.path.join(output_dir, f'{column}.csv')\n",
    "        column_df.to_csv(output_file, index=True)\n",
    "    \n",
    "    chunks = pd.read_csv(file_path, chunksize=chunk_size)\n",
    "\n",
    "print(\"Columns have been saved to individual files.\")"
   ]
  }
 ],
 "metadata": {
  "language_info": {
   "name": "python"
  }
 },
 "nbformat": 4,
 "nbformat_minor": 2
}
