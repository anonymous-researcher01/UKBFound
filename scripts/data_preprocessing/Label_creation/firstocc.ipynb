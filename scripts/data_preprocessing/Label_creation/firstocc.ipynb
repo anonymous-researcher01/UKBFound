{
 "cells": [
  {
   "cell_type": "code",
   "execution_count": 1,
   "metadata": {},
   "outputs": [],
   "source": [
    "import csv\n",
    "\n",
    "import pandas as pd\n",
    "map=dict(zip(pd.read_csv('../../data/Data_Dictionary_Showcase.tsv',delimiter='\\t')['FieldID'],pd.read_csv('../../data/Data_Dictionary_Showcase.tsv',delimiter='\\t')['Field']))\n",
    "file_path = '../../data/Preprocess/ukbxxxxxx.csv'#path to your csv ,with first occur columns only\n",
    "foccdict={}\n",
    "with open(file_path, 'r', newline='') as csvfile:\n",
    "    reader = csv.reader(csvfile)\n",
    "    indexmap=next(iter(reader))\n",
    "    for row in reader:\n",
    "        nonempty={}\n",
    "        for i,info in enumerate(row):\n",
    "            if i==0:\n",
    "                continue#eid\n",
    "            if info!='':\n",
    "                line=map[int(indexmap[i].split('-')[0])]\n",
    "                if 'Date' in line:\n",
    "                    nonempty[line.split(' ')[1]]=info\n",
    "        foccdict[row[0]]=nonempty"
   ]
  },
  {
   "cell_type": "code",
   "execution_count": 5,
   "metadata": {},
   "outputs": [],
   "source": [
    "import numpy as np\n",
    "np.save('../../results/cache/firstocc',foccdict)"
   ]
  }
 ],
 "metadata": {
  "kernelspec": {
   "display_name": "dl",
   "language": "python",
   "name": "python3"
  },
  "language_info": {
   "codemirror_mode": {
    "name": "ipython",
    "version": 3
   },
   "file_extension": ".py",
   "mimetype": "text/x-python",
   "name": "python",
   "nbconvert_exporter": "python",
   "pygments_lexer": "ipython3",
   "version": "3.11.5"
  }
 },
 "nbformat": 4,
 "nbformat_minor": 2
}
