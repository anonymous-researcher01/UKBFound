{
 "cells": [
  {
   "cell_type": "code",
   "execution_count": null,
   "metadata": {},
   "outputs": [],
   "source": [
    "import numpy as np\n",
    "import pandas as pd\n",
    "import os\n",
    "from config import *\n",
    "def filelist(p):\n",
    "    return [\n",
    "f\"{p}/baseline_imputed.csv\",\n",
    "f\"{p}/lifestyle_imputed.csv\",\n",
    "f\"{p}/measurement_imputed.csv\",\n",
    "f\"{p}/environment_imputed.csv\",\n",
    "f\"{p}/genetic_imputed.csv\"]\n"
   ]
  },
  {
   "cell_type": "code",
   "execution_count": null,
   "metadata": {},
   "outputs": [],
   "source": [
    "p='../../results/Process_missingness/'\n",
    "p, os.listdir(p)"
   ]
  },
  {
   "cell_type": "code",
   "execution_count": null,
   "metadata": {},
   "outputs": [],
   "source": [
    "import numpy as np\n",
    "Xdata=[]\n",
    "for i in range(len(filelist(p))):\n",
    "    Xdata.append(pd.read_csv(filelist(p)[i]))"
   ]
  },
  {
   "cell_type": "code",
   "execution_count": null,
   "metadata": {},
   "outputs": [],
   "source": [
    "t=pd.concat(Xdata,axis=1).drop('eid', axis=1)\n",
    "pridict=dict(zip(pd.read_csv('../../data/Preprocess/showcase.csv')['FieldID'], pd.read_csv('../../data/Preprocess/showcase.csv')['Priority']))\n",
    "priority=[]\n",
    "for i in list(t.columns):\n",
    "    if 'PRSPC' in i:\n",
    "        priority.append(3)\n",
    "    else:\n",
    "        i=i.split('#')[0].split('-')[0]\n",
    "        priority.append(pridict[int(i)])\n",
    "pridict"
   ]
  },
  {
   "cell_type": "code",
   "execution_count": null,
   "metadata": {},
   "outputs": [],
   "source": [
    "import numpy as np\n",
    "Xdata=[]\n",
    "for i in range(len(filelist(p))):\n",
    "    Xdata.append(pd.read_csv(filelist(p)[i]).to_numpy()[:,1:])#[:,1:] to remove eid column\n",
    "    for j in [1,2,3]:\n",
    "        temp=np.concatenate(Xdata, axis=1)\n",
    "        out=temp[:,np.where(np.array(priority)[:temp.shape[1]]<=j)[0]]\n",
    "        try:\n",
    "            os.mkdir(f'../../results/xblock/priority/')\n",
    "        except:\n",
    "            pass\n",
    "        try:\n",
    "            os.mkdir(f'../../results/xblock/priority/{j}')\n",
    "        except:\n",
    "            pass\n",
    "        np.save(f'../../results/xblock/priority/{j}/blk{i+1}',out)"
   ]
  },
  {
   "cell_type": "code",
   "execution_count": null,
   "metadata": {},
   "outputs": [],
   "source": [
    "plist=[]\n",
    "\n",
    "filelist = [\n",
    "f\"{p}/baseline_imputed.csv\",\n",
    "f\"{p}/lifestyle_imputed.csv\",\n",
    "f\"{p}/measurement_imputed.csv\",\n",
    "f\"{p}/environment_imputed.csv\",\n",
    "f\"{p}/genetic_imputed.csv\",\n",
    "]\n",
    "\n",
    "print(filelist)\n",
    "import numpy as np\n",
    "Xdata=[]\n",
    "for i in range(len(filelist)):\n",
    "    Xdata.append(pd.read_csv(filelist[i]).to_numpy()[:,1:])#[:,1:] to remove eid column\n",
    "    np.save(f'{Xblocklocation}blk{i+1}',np.concatenate(Xdata, axis=1))"
   ]
  }
 ],
 "metadata": {
  "kernelspec": {
   "display_name": "dl",
   "language": "python",
   "name": "python3"
  },
  "language_info": {
   "codemirror_mode": {
    "name": "ipython",
    "version": 3
   },
   "file_extension": ".py",
   "mimetype": "text/x-python",
   "name": "python",
   "nbconvert_exporter": "python",
   "pygments_lexer": "ipython3",
   "version": "3.11.5"
  }
 },
 "nbformat": 4,
 "nbformat_minor": 2
}
